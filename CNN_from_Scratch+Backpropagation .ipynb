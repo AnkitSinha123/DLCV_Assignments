{
  "cells": [
    {
      "cell_type": "markdown",
      "metadata": {
        "id": "KE1Rct79pdT1"
      },
      "source": [
        "# DLCV Assignment 1\n",
        "\n",
        "**Due Date: 17/02/2023 11:59PM IST**\n",
        "\n",
        "**Name: Ankit Kumar Sinha**\n",
        "\n",
        "**Sr. No.: 21289**\n",
        "\n",
        "\n",
        "In this assignment, we will cover the following topics:\n",
        "\n",
        "1) Training a simple Linear Model \n",
        "\n",
        "2) Implementing Modules with Backprop functionality\n",
        "\n",
        "3) Implementing Convolution Module on Numpy\n",
        "\n",
        "\n",
        "It is crucial to get down to the nitty gritty of the code to implement all of these. No external packages (like caffe,pytorch etc), which directly give functions for these steps, are to be used. "
      ]
    },
    {
      "cell_type": "markdown",
      "metadata": {
        "id": "Emb3Bo_NpdUl"
      },
      "source": [
        "# Training a simple Linear Model\n",
        "\n",
        "In this section, you will write the code to train a Linear Model. The goal is to classify an input $X_i$ of size $n$ into one of $m$ classes. For this, you need to consider the following:\n",
        "\n",
        "1)  **Weight Matrix** $W_{n\\times m}$: The Weights are multipled with the input $X_i$ (vector of size $n$), to find $m$ scores $S_m$ for the $m$ classes.\n",
        "\n",
        "2)  **The Loss function**:   \n",
        "  * The Cross Entropy Loss: By interpreting the scores as unnormalized log probabilities for each class, this loss tries to measure dissatisfaction with the scores in terms of the log probability of the right class:\n",
        "\n",
        "$$\n",
        "L_i = -\\log\\left(\\frac{e^{f_{y_i}}}{ \\sum_j e^{f_j} }\\right) \\hspace{0.5in} \\text{or equivalently} \\hspace{0.5in} L_i = -f_{y_i} + \\log\\sum_j e^{f_j}\n",
        "$$\n",
        "\n",
        "where $f_{ y_i }$ is the $y_i$-th element of the output of $W^T  X_i$\n",
        "\n",
        "3) **A Regularization term**: In addition to the loss, you need a Regularization term to lead to a more distributed (in case of $L_2$) or sparse (in case of $L_1$) learning of the weights. For example, with $L_2$ regularization, the loss has the following additional term:\n",
        "\n",
        "$$\n",
        "R(W) = \\sum_k\\sum_l W_{k,l}^2  \n",
        "$$\n",
        "\n",
        "Thus the total loss has the form:\n",
        "$$\n",
        "L =  \\underbrace{ \\frac{1}{N} \\sum_i L_i }_\\text{data loss} + \\underbrace{ \\lambda R(W) }_\\text{regularization loss} \\\\\\\\\n",
        "$$\n",
        "\n",
        "4) **An Optimization Procedure**: This refers to the process which tweaks the weight Matrix $W_{n\\times m}$ to reduce the loss function $L$. In our case, this refers to Mini-batch Gradient Descent algorithm. We adjust the weights $W_{n\\times m}$, based on the gradient of the loss $L$ w.r.t. $W_{n\\times m}$. This leads to:\n",
        "$$\n",
        "W_{t+1} = W_{t} - \\alpha \\frac{\\partial L}{\\partial W},\n",
        "$$\n",
        "where $\\alpha$ is the learning rate. Additionally, with \"mini-batch\" gradient descent, instead of finding loss over the whole dataset, we use a small sample $B$ of the training data to make each learning step. Hence,\n",
        "$$\n",
        "W_{t+1} = W_{t} - \\alpha \\frac{\\partial \\sum_{i \\in B}{L_{x_i}}}{\\partial W},\n",
        "$$\n",
        "where $|B|$ is the batch size."
      ]
    },
    {
      "cell_type": "markdown",
      "metadata": {
        "id": "I2neGQlEpdVD"
      },
      "source": [
        "# Question 1\n",
        "\n",
        "Train a **Single-Layer Classifier** for the MNIST dataset. \n",
        "* Use Softmax-Loss.\n",
        "* Maintain a train-validation split of the original training set for finding the right value of $\\lambda$ for the regularization, and to check for over-fitting.\n",
        "* Finally, evaluate the classification performance on the test-set.\n"
      ]
    },
    {
      "cell_type": "code",
      "source": [
        "#Loading Mnist Data\n",
        "\n",
        "import idx2numpy\n",
        "import numpy as np\n",
        "import pandas as pd\n",
        "import random \n",
        "import matplotlib.pyplot as plt\n",
        "from mlxtend.data import loadlocal_mnist\n",
        "from sklearn.model_selection import train_test_split\n",
        "\n",
        "\n",
        "%matplotlib inline\n",
        "\n",
        "\n",
        "\n",
        "training_images_filepath = \"/content/drive/MyDrive/MNSIT Dataset/train-images.idx3-ubyte\"\n",
        "training_labels_filepath = \"/content/drive/MyDrive/MNSIT Dataset/train-labels.idx1-ubyte\"\n",
        "test_images_filepath = \"/content/drive/MyDrive/MNSIT Dataset/t10k-images.idx3-ubyte\"\n",
        "test_labels_filepath = \"/content/drive/MyDrive/MNSIT Dataset/t10k-labels.idx1-ubyte\"\n",
        "\n",
        "\n",
        "\n",
        "X_train, y_train = loadlocal_mnist( training_images_filepath, training_labels_filepath)\n",
        "X_test, y_test = loadlocal_mnist(test_images_filepath, test_labels_filepath)\n",
        "\n",
        "\n",
        "X_train = X_train.reshape(60000, 28, 28)\n",
        "X_test = X_test.reshape(10000, 28, 28)\n",
        "\n",
        "\n",
        "training_x, X_val,training_y, y_val = train_test_split(X_train, y_train, test_size=0.2, random_state=42)\n"
      ],
      "metadata": {
        "id": "NcYZ0GadUgZi"
      },
      "execution_count": 135,
      "outputs": []
    },
    {
      "cell_type": "code",
      "execution_count": 136,
      "metadata": {
        "id": "jwa72NJTpdVc"
      },
      "outputs": [],
      "source": [
        "## Load The Mnist data:\n",
        "# Download data from http://yann.lecun.com/exdb/mnist/\n",
        "# load the data.\n",
        "\n",
        "# maintain a train-val split\n",
        "\n",
        "# Now, write a generator that yields (random) mini-batches of the input data\n",
        "# Do not use same set of mini-batches for different epochs\n",
        "\n",
        "\n",
        "\n",
        "\n",
        "    \n",
        "def get_minibatch(training_x=training_x, training_y=training_y,batch_size=10):\n",
        "    ## Read about Python generators if required.\n",
        "\n",
        "    \"\"\"generator function returns generator objects which are iterables using for in or next we can call the next objext\"\"\"\n",
        "\n",
        "    ## WRITE CODE HERE\n",
        "    m = training_y.shape[0]\n",
        "    permutation = list(np.random.permutation(m))\n",
        "\n",
        "    training_x = training_x[permutation,:]\n",
        "    training_y = training_y[permutation]\n",
        "\n",
        "    #minibatch = []\n",
        "    #batch_size = 10\n",
        "    number_of_batch = int(m/batch_size)  #batch_size_was_5\n",
        "\n",
        "    for i in range(number_of_batch):\n",
        "      mini_x = training_x[i*batch_size:(i+1)*batch_size]\n",
        "      mini_y = training_y[i*batch_size:(i+1)*batch_size]\n",
        "      #minibatch.append((mini_x,mini_y))\n",
        "\n",
        "      yield mini_x,mini_y"
      ]
    },
    {
      "cell_type": "code",
      "execution_count": 137,
      "metadata": {
        "id": "HVMwqheRpdXo"
      },
      "outputs": [],
      "source": [
        "# Define the class for a Single Layer Classifier\n",
        "class Single_layer_classifier():\n",
        "  \"\"\"input = 28\"\"\" \n",
        "    \n",
        "  def __init__(self, input_size, output_size):\n",
        "        \n",
        "        ## WRITE CODE HERE\n",
        "\n",
        "        self.weight_matrix = np.random.normal(0,1e-3,size=(input_size,output_size))\n",
        "        \n",
        "        # Give the instance a weight matrix, initialized randomly\n",
        "        # One possible strategy for a good initialization is Normal (0, σ) where σ = 1e-3.\n",
        "        # Try experimenting with different values of σ.\n",
        "        \n",
        "    # Define the forward function\n",
        "  def forward(self, input_x):\n",
        "      \"\"\" input_x is image\n",
        "      \"\"\"\n",
        "        \n",
        "        # get the scores\n",
        "      input_x = input_x.flatten()\n",
        "      input_x = np.reshape(input_x,(input_x.shape[0],1))\n",
        "      self.input_x = input_x/255\n",
        "      scores = self.weight_matrix.T@input_x\n",
        "\n",
        "        ## WRITE CODE HERE\n",
        "        \n",
        "      return scores\n",
        "    \n",
        "    # Similarly a backward function\n",
        "    # we define 2 backward functions (as Loss = L_data + L_reg, grad(Loss) = grad(L1) + grad(L2))\n",
        "    \n",
        "  def backward_Ldata(self,grad_from_loss):\n",
        "        \n",
        "        # this function returns a matrix of the same size as the weights, \n",
        "        # where each element is the partial derivative of the loss w.r.t. the corresponding element of W\n",
        "        \n",
        "        ## WRITE CODE HERE\n",
        "\n",
        "        grad_matrix = np.dot(self.input_x,grad_from_loss.T)\n",
        "\n",
        "        return grad_matrix\n",
        "        \n",
        "  def backward_Lreg(self):\n",
        "        \n",
        "        # this function returns a matrix of the same size as the weights, \n",
        "        # where each element is the partial derivative of the regularization-term\n",
        "        # w.r.t. the corresponding element of W\n",
        "        \n",
        "        ## WRITE CODE HERE\n",
        "        grad_matrix = 2*self.weight_matrix\n",
        "        \n",
        "        return grad_matrix"
      ]
    },
    {
      "cell_type": "code",
      "execution_count": 138,
      "metadata": {
        "id": "BM3EhmY0pdYZ"
      },
      "outputs": [],
      "source": [
        "# Implement the Softmax loss function\n",
        "def loss_function(input_y,scores):\n",
        "\n",
        "    ## WRITE CODE HERE\n",
        "\n",
        "    loss = np.exp(scores.copy())\n",
        "    loss = loss/(loss.sum(0))   \n",
        "    loss = -np.log(loss[input_y])\n",
        "\n",
        "    return loss\n",
        "\n",
        "\n",
        "def loss_backward(input_y,scores):\n",
        "    # This part deals with the gradient of the loss w.r.t the output of network\n",
        "    # for example, in case of softmax loss(-log(q_c)), this part gives grad(loss) w.r.t. q_c\n",
        "    # pass this to backward_ldata\n",
        "\n",
        "    ## WRITE CODE HERE\n",
        "    y = np.zeros((10,1))\n",
        "    y[input_y][0] = -1\n",
        "    loss = np.exp(scores.copy())\n",
        "    loss = loss/(loss.sum(0)) \n",
        "\n",
        "    grad_from_loss = loss + y\n",
        "\n",
        "\n",
        "\n",
        "    return grad_from_loss\n",
        "        "
      ]
    },
    {
      "cell_type": "markdown",
      "metadata": {
        "id": "IurpnO0jPZ-W"
      },
      "source": [
        "### Create utility functions for calculating training and validation accuracy"
      ]
    },
    {
      "cell_type": "code",
      "execution_count": 139,
      "metadata": {
        "id": "lgNlmmxlPZ-X"
      },
      "outputs": [],
      "source": [
        "# WRITE CODE HERE\n",
        "\n",
        "model  = Single_layer_classifier(28*28,10)"
      ]
    },
    {
      "cell_type": "code",
      "execution_count": 140,
      "metadata": {
        "id": "AhpaaUvJpdZJ",
        "colab": {
          "base_uri": "https://localhost:8080/",
          "height": 0
        },
        "outputId": "864961ea-285f-42fe-e4c2-7bcfdbc346d7"
      },
      "outputs": [
        {
          "output_type": "stream",
          "name": "stdout",
          "text": [
            "The training loss value is 1.7138 and training accuracy is 0.5945, count is 2400.000000\n",
            "The training loss value is 1.6174 and training accuracy is 0.6869, count is 4800.000000\n",
            "The training loss value is 1.5947 and training accuracy is 0.7077, count is 7200.000000\n",
            "The training loss value is 1.5897 and training accuracy is 0.7098, count is 9600.000000\n",
            "The training loss value is 1.5946 and training accuracy is 0.7054, count is 12000.000000\n",
            "The training loss value is 1.5882 and training accuracy is 0.7152, count is 14400.000000\n",
            "The training loss value is 1.5881 and training accuracy is 0.7123, count is 16800.000000\n",
            "The training loss value is 1.5856 and training accuracy is 0.7145, count is 19200.000000\n",
            "The training loss value is 1.5782 and training accuracy is 0.7261, count is 21600.000000\n",
            "The training loss value is 1.5782 and training accuracy is 0.7279, count is 24000.000000\n"
          ]
        }
      ],
      "source": [
        "# Finally the trainer:\n",
        "# Make an instance of Single_layer_classifier\n",
        "# Train for t epochs:\n",
        "###  Train on the train-set obtained from train-validation split\n",
        "###  Use the mini-batch generator to get each mini-batch\n",
        "\n",
        "\n",
        "def model_train(num_batch,epochs,lr,lamb_):\n",
        "      count =0\n",
        "      training_loss = []\n",
        "      training_accuracy = []\n",
        "      for epoch in range(epochs):\n",
        "        total_epoch_loss = 0\n",
        "        epoch_corrects = 0\n",
        "        epoch_total_sample = 0\n",
        "        \n",
        "          \n",
        "        minibatch_generator = get_minibatch(batch_size=num_batch)\n",
        "\n",
        "        for input_x , input_y in (minibatch_generator):\n",
        "            \n",
        "            ## Write code here for each iteration of training\n",
        "\n",
        "            #Forward pass\n",
        "            loss_back = 0\n",
        "            accuracy = 0\n",
        "            \n",
        "            for i in range(len(input_x)):\n",
        "              x = input_x[i]\n",
        "              y= input_y[i]\n",
        "              scores = model.forward(x) \n",
        "              scores = scores/(max(scores))\n",
        "\n",
        "              if (np.argmax(scores)==y):\n",
        "                epoch_corrects += 1\n",
        "              epoch_total_sample += 1\n",
        "\n",
        "              total_epoch_loss += loss_function(y,scores)\n",
        "              loss_back += loss_backward(y,scores)\n",
        "\n",
        "              # update metrics\n",
        "\n",
        "              \n",
        "            # Backward pass\n",
        "\n",
        "            loss_back = loss_back/len(input_x)\n",
        "            backward_data_weight = model.backward_Ldata(loss_back)\n",
        "            backward_regularization = model.backward_Lreg()\n",
        "\n",
        "            lr = 0.5\n",
        "            lamb_ = 0.0001\n",
        "\n",
        "\n",
        "\n",
        "\n",
        "\n",
        "            \n",
        "            # Update weights\n",
        "            model.weight_matrix  -=  ((backward_data_weight) * lr +  lamb_ * backward_regularization)\n",
        "\n",
        "            \n",
        "            # Log the training loss value and training accuracy \n",
        "            count += 1\n",
        "\n",
        "        print(\"The training loss value is %.4f and training accuracy is %.4f, count is %f\" %(total_epoch_loss/epoch_total_sample,epoch_corrects/epoch_total_sample,count))\n",
        "        training_loss.append(total_epoch_loss/epoch_total_sample)\n",
        "        training_accuracy.append(epoch_corrects/epoch_total_sample)\n",
        "\n",
        "      return training_accuracy,training_loss\n",
        "\n",
        "\n",
        "training_accuracy,training_loss=model_train(20,10,0.5,0.001)  "
      ]
    },
    {
      "cell_type": "markdown",
      "metadata": {
        "id": "BT772oqbPZ-a"
      },
      "source": [
        "### Plot the training loss and training accuracy plot"
      ]
    },
    {
      "cell_type": "code",
      "execution_count": 141,
      "metadata": {
        "id": "pSBTlSN8PZ-a",
        "colab": {
          "base_uri": "https://localhost:8080/",
          "height": 808
        },
        "outputId": "f8551701-2a43-41cd-f8b3-70d63fbc2e5d"
      },
      "outputs": [
        {
          "output_type": "display_data",
          "data": {
            "text/plain": [
              "<Figure size 720x432 with 1 Axes>"
            ],
            "image/png": "[encoded data removed]"
          },
          "metadata": {
            "needs_background": "light"
          }
        },
        {
          "output_type": "execute_result",
          "data": {
            "text/plain": [
              "Text(0.5, 1.0, 'Training Loss')"
            ]
          },
          "metadata": {},
          "execution_count": 141
        },
        {
          "output_type": "display_data",
          "data": {
            "text/plain": [
              "<Figure size 720x432 with 1 Axes>"
            ],
            "image/png": "[encoded data removed]"
          },
          "metadata": {
            "needs_background": "light"
          }
        }
      ],
      "source": [
        "# WRITE CODE HERE\n",
        "\n",
        "\n",
        "import matplotlib.pyplot as plt\n",
        "\n",
        "\n",
        "# plot the training loss and accuracy\n",
        "plt.subplots(figsize=(10, 6))\n",
        "plt.plot(training_accuracy, label='Training Accuracy')\n",
        "plt.legend()\n",
        "plt.xlabel('Epochs')\n",
        "plt.ylabel('Accuracy')\n",
        "plt.title('Training Accuracy')\n",
        "plt.show()\n",
        "\n",
        "\n",
        "plt.subplots(figsize=(10, 6))\n",
        "plt.plot(training_loss, label='Training Loss')\n",
        "plt.xlabel('Epochs')\n",
        "plt.ylabel('Loss')\n",
        "plt.title('Training Loss')\n"
      ]
    },
    {
      "cell_type": "code",
      "metadata": {
        "id": "RH22BqefpdZ4",
        "colab": {
          "base_uri": "https://localhost:8080/",
          "height": 0
        },
        "outputId": "a85bb7b2-b8b5-41de-adf4-3620eda4f7c2"
      },
      "source": [
        "### Find the accuracy on the validation set\n",
        "def test_model(model,X_val,y_val):\n",
        "    minibatch_generator = get_minibatch(X_val,y_val)\n",
        "    corrects = 0\n",
        "    total_sample =0\n",
        "    for input_x , input_y in (minibatch_generator):\n",
        "      for i in range(len(input_x)):\n",
        "        x = input_x[i]\n",
        "        y = input_y[i]\n",
        "        scores = model.forward(x)\n",
        "        predicted = np.argmax(scores)\n",
        "        if (predicted == y):\n",
        "          corrects += 1\n",
        "        total_sample += 1\n",
        "        test_accuracy = corrects/total_sample\n",
        "    print(\"The testing accuracy is %.4f\" %(test_accuracy))\n",
        "    return test_accuracy\n",
        "\n",
        "test_accuracy = test_model(model,X_val,y_val)\n"
      ],
      "execution_count": 142,
      "outputs": [
        {
          "output_type": "stream",
          "name": "stdout",
          "text": [
            "The testing accuracy is 0.7133\n"
          ]
        }
      ]
    },
    {
      "cell_type": "code",
      "execution_count": null,
      "metadata": {
        "id": "rMyZnPtuPZ-c"
      },
      "outputs": [],
      "source": [
        "# WRITE CODE HERE"
      ]
    },
    {
      "cell_type": "code",
      "execution_count": 144,
      "metadata": {
        "id": "7wMDvvA4pdbN",
        "colab": {
          "base_uri": "https://localhost:8080/",
          "height": 561
        },
        "outputId": "a319831a-c606-4afe-d59e-a89e08e3f443"
      },
      "outputs": [
        {
          "output_type": "stream",
          "name": "stdout",
          "text": [
            "The training loss value is 1.5983 and training accuracy is 0.7094, count is 9600.000000\n",
            "The training loss value is 1.6432 and training accuracy is 0.6599, count is 4800.000000\n",
            "The training loss value is 1.7236 and training accuracy is 0.5813, count is 2400.000000\n",
            "The training loss value is 1.5933 and training accuracy is 0.7194, count is 9600.000000\n",
            "The training loss value is 1.6284 and training accuracy is 0.6834, count is 4800.000000\n",
            "The training loss value is 1.7190 and training accuracy is 0.5770, count is 2400.000000\n",
            "The training loss value is 1.6007 and training accuracy is 0.7029, count is 9600.000000\n",
            "The training loss value is 1.6319 and training accuracy is 0.6703, count is 4800.000000\n",
            "The training loss value is 1.7464 and training accuracy is 0.5669, count is 2400.000000\n"
          ]
        },
        {
          "output_type": "display_data",
          "data": {
            "text/plain": [
              "<Figure size 576x432 with 2 Axes>"
            ],
            "image/png": "[encoded data removed]"
          },
          "metadata": {
            "needs_background": "light"
          }
        }
      ],
      "source": [
        "# The next step is to find the optimal value for lambda, number of epochs, learning rate and batch size. \n",
        "# CHOSE ANY TWO from the above mentioned to tune.\n",
        "# Create plot and table to show the effect of the hparams.\n",
        "\n",
        "lambda_ = [0.0001,0.00001,0.000001]\n",
        "batch_size = [5,10,20]\n",
        "\n",
        "results = pd.DataFrame(columns=['lambda_', 'batch_size', 'train_loss', 'train_acc'])\n",
        "\n",
        "for l in lambda_:\n",
        "  for b in batch_size:\n",
        "    epochs =1\n",
        "    model = Single_layer_classifier(28*28, 10)\n",
        "    training_accuracy,training_loss = model_train(b,epochs,0.5,l)\n",
        "    results = results.append({'lambda_': l, 'batch_size': b, 'train_loss': training_loss[-1].item(), 'train_acc': training_accuracy[-1]}, ignore_index=True)\n",
        "\n",
        "\n",
        "\n",
        "\n",
        "\n",
        "table=pd.pivot_table(results,values='train_acc',columns='batch_size',index='lambda_')\n",
        "\n",
        "\n",
        "plt.figure(figsize=(8, 6))\n",
        "plt.imshow(table,cmap='Blues', interpolation='nearest')\n",
        "plt.xticks(np.arange(len(batch_size)),batch_size )\n",
        "plt.yticks(np.arange(len(lambda_)),lambda_ )\n",
        "plt.xlabel('batch_size')\n",
        "plt.ylabel('lambda')\n",
        "plt.title(\"Hyperparameter comparision\")\n",
        "plt.colorbar()\n",
        "plt.show()\n"
      ]
    },
    {
      "cell_type": "code",
      "metadata": {
        "id": "BDrq0GfKpdb8"
      },
      "source": [
        "### Report final performance on MNIST test set"
      ],
      "execution_count": null,
      "outputs": []
    },
    {
      "cell_type": "code",
      "execution_count": 159,
      "metadata": {
        "id": "rNObg8QUPZ-e",
        "colab": {
          "base_uri": "https://localhost:8080/",
          "height": 235
        },
        "outputId": "ececd4f7-757d-423a-9b61-30ab4bca18e1"
      },
      "outputs": [
        {
          "output_type": "error",
          "ename": "TypeError",
          "evalue": "ignored",
          "traceback": [
            "\u001b[0;31m---------------------------------------------------------------------------\u001b[0m",
            "\u001b[0;31mTypeError\u001b[0m                                 Traceback (most recent call last)",
            "\u001b[0;32m<ipython-input-159-7baf5c3dba5a>\u001b[0m in \u001b[0;36m<module>\u001b[0;34m\u001b[0m\n\u001b[1;32m      1\u001b[0m \u001b[0;31m# WRITE CODE HERE\u001b[0m\u001b[0;34m\u001b[0m\u001b[0;34m\u001b[0m\u001b[0;34m\u001b[0m\u001b[0m\n\u001b[1;32m      2\u001b[0m \u001b[0;34m\u001b[0m\u001b[0m\n\u001b[0;32m----> 3\u001b[0;31m \u001b[0mtraining_accuracy\u001b[0m\u001b[0;34m,\u001b[0m\u001b[0mtraining_loss\u001b[0m \u001b[0;34m=\u001b[0m \u001b[0mmodel_train\u001b[0m\u001b[0;34m(\u001b[0m\u001b[0;36m20\u001b[0m\u001b[0;34m,\u001b[0m\u001b[0;36m5\u001b[0m\u001b[0;34m,\u001b[0m\u001b[0;36m0.5\u001b[0m\u001b[0;34m,\u001b[0m\u001b[0;36m0.0000001\u001b[0m\u001b[0;34m)\u001b[0m\u001b[0;34m\u001b[0m\u001b[0;34m\u001b[0m\u001b[0m\n\u001b[0m\u001b[1;32m      4\u001b[0m \u001b[0;34m\u001b[0m\u001b[0m\n\u001b[1;32m      5\u001b[0m \u001b[0mtest_accuracy\u001b[0m\u001b[0;34m=\u001b[0m\u001b[0mtest_model\u001b[0m\u001b[0;34m(\u001b[0m\u001b[0mmodel\u001b[0m\u001b[0;34m,\u001b[0m\u001b[0mX_test\u001b[0m\u001b[0;34m,\u001b[0m\u001b[0my_test\u001b[0m\u001b[0;34m)\u001b[0m\u001b[0;34m\u001b[0m\u001b[0;34m\u001b[0m\u001b[0m\n",
            "\u001b[0;31mTypeError\u001b[0m: model_train() takes 3 positional arguments but 4 were given"
          ]
        }
      ],
      "source": [
        "# WRITE CODE HERE\n",
        "\n",
        "training_accuracy,training_loss = model_train(20,5,0.5,0.0000001) \n",
        "\n",
        "test_accuracy=test_model(model,X_test,y_test)"
      ]
    },
    {
      "cell_type": "markdown",
      "metadata": {
        "id": "YxLA_RM9PZ-f"
      },
      "source": [
        "### Find the best performing class and the worst performing class"
      ]
    },
    {
      "cell_type": "code",
      "execution_count": null,
      "metadata": {
        "id": "Q3KXmFmSPZ-g"
      },
      "outputs": [],
      "source": [
        "# WRITE CODE HERE\n",
        "\n",
        "\n",
        "\n"
      ]
    },
    {
      "cell_type": "markdown",
      "metadata": {
        "id": "y4QRvLI8PZ-p"
      },
      "source": [
        "# Training a Linear Classifier on MNIST from scikit-learn\n",
        "\n",
        "In this section you have to train a linear classifier from the scikit-learn library and compare its results against your implementation.\n",
        "(https://scikit-learn.org/stable/modules/generated/sklearn.linear_model.LinearRegression.html)"
      ]
    },
    {
      "cell_type": "code",
      "execution_count": 92,
      "metadata": {
        "id": "J_JDl-RhPZ-q",
        "colab": {
          "base_uri": "https://localhost:8080/",
          "height": 0
        },
        "outputId": "4884fe5a-5c20-441b-f0b0-5f054e85538b"
      },
      "outputs": [
        {
          "output_type": "stream",
          "name": "stdout",
          "text": [
            "Accuracy: %f 0.9131\n"
          ]
        },
        {
          "output_type": "stream",
          "name": "stderr",
          "text": [
            "/usr/local/lib/python3.8/dist-packages/sklearn/linear_model/_logistic.py:814: ConvergenceWarning: lbfgs failed to converge (status=1):\n",
            "STOP: TOTAL NO. of ITERATIONS REACHED LIMIT.\n",
            "\n",
            "Increase the number of iterations (max_iter) or scale the data as shown in:\n",
            "    https://scikit-learn.org/stable/modules/preprocessing.html\n",
            "Please also refer to the documentation for alternative solver options:\n",
            "    https://scikit-learn.org/stable/modules/linear_model.html#logistic-regression\n",
            "  n_iter_i = _check_optimize_result(\n"
          ]
        }
      ],
      "source": [
        "    # WRITE CODE HERE \n",
        "\n",
        "from sklearn.linear_model import LogisticRegression\n",
        "from sklearn.metrics import accuracy_score\n",
        "\n",
        "\n",
        "model_x =X_train[:20000].reshape(-1,X_train.shape[1]*X_train.shape[2])\n",
        "model_y =X_test.reshape(-1,X_test.shape[1]*X_test.shape[2])\n",
        "\n",
        "\n",
        "clf = LogisticRegression()\n",
        "clf.fit(model_x, y_train[:20000])\n",
        "\n",
        "y_pred = clf.predict(model_y)\n",
        "\n",
        "\n",
        "accuracy = accuracy_score(y_test, y_pred)\n",
        "\n",
        "print(\"Accuracy: %f\",accuracy)\n",
        "\n"
      ]
    },
    {
      "cell_type": "markdown",
      "metadata": {
        "id": "UP4XwgMVPZ-r"
      },
      "source": [
        "### Compare the training and test accuracies for the your implementation and linear classifier from scikit-learn"
      ]
    },
    {
      "cell_type": "code",
      "execution_count": 95,
      "metadata": {
        "id": "eKmZGbJiPZ-r",
        "colab": {
          "base_uri": "https://localhost:8080/",
          "height": 0
        },
        "outputId": "eb73dd03-99c6-4d4e-effd-45bdb55294d1"
      },
      "outputs": [
        {
          "output_type": "stream",
          "name": "stdout",
          "text": [
            "The training accuracy : 0.714854 and test accuracy : 0.722500 of my implementation\n",
            "The test accuracy : 0.913100 of scikit-learn linear classifier\n"
          ]
        }
      ],
      "source": [
        "    # WRITE CODE HERE\n",
        "\n",
        "print(\"The training accuracy : %f and test accuracy : %f of my implementation\"%(training_accuracy[-1],test_accuracy))\n",
        "print(\"The test accuracy : %f of scikit-learn linear classifier\"%(accuracy))"
      ]
    },
    {
      "cell_type": "markdown",
      "metadata": {
        "id": "loaeE59oPZ-r"
      },
      "source": [
        "### Any additional observations / comments?"
      ]
    },
    {
      "cell_type": "code",
      "execution_count": null,
      "metadata": {
        "id": "1kwRh9BWPZ-r"
      },
      "outputs": [],
      "source": []
    },
    {
      "cell_type": "markdown",
      "metadata": {
        "id": "3PGTi05TPZ-s"
      },
      "source": [
        "## BONUS Question\n",
        "### Observe the effect on test set accuracy by changing the number of training samples.\n",
        "### Train on 10%, 20% and 50% training data and plot the percentage of training data v.s. the test accuracy.  "
      ]
    },
    {
      "cell_type": "code",
      "execution_count": null,
      "metadata": {
        "id": "4FkerbiAPZ-s"
      },
      "outputs": [],
      "source": [
        "# WRITE CODE HERE\n",
        "\n"
      ]
    },
    {
      "cell_type": "markdown",
      "metadata": {
        "id": "sXFJTTnkpdcp"
      },
      "source": [
        "# Implementing Backpropagation\n",
        "\n",
        "Now that you have had some experience with single layer networks, we can proceed to more complex architectures. But first we need to completely understand and implement backpropagation.\n",
        "\n",
        "## Backpropagation:\n",
        "\n",
        "Simply put, a way of computing gradients of expressions through repeated application of chain rule. If\n",
        "$$\n",
        "L = f (g (h (\\textbf{x})))\n",
        "$$\n",
        "then, by the chain rule we have:\n",
        "$$\n",
        "\\frac{\\partial L}{\\partial \\textbf{x}} = \\frac{\\partial f}{\\partial g} \\cdot \\frac{\\partial g}{\\partial h} \\cdot \\frac{\\partial h}{\\partial \\textbf{x}} \n",
        "$$\n",
        "\n",
        "** Look into the class Lecture for more detail **\n",
        "\n"
      ]
    },
    {
      "cell_type": "markdown",
      "metadata": {
        "id": "UixM41Rppdcz"
      },
      "source": [
        "# Question 2 : Scalar Backpropagation\n",
        "\n",
        "Evaluate the gradient of the following function w.r.t. the input:\n",
        "\n",
        "$$ f(x,y,z) =  log(\\sigma(\\frac{cos(\\pi \\times x)+sin(\\pi \\times y/2)}{tanh(z^2)}))$$\n",
        "where $\\sigma$ is the sigmoid function. Find gradient for the following inputs:\n",
        "  * $(x,y,z)$ =  (2,4,1)\n",
        "  * $(x,y,z)$ =  (9,14,3)\n",
        "  * $(x,y,z)$ =  (128,42,666)\n",
        "  * $(x,y,z)$ =  (52,14,28)\n",
        "\n",
        "      "
      ]
    },
    {
      "cell_type": "code",
      "execution_count": 96,
      "metadata": {
        "id": "Uu9zd5PLpdc_"
      },
      "outputs": [],
      "source": [
        "# To solve this problem, construct the computational graph\n",
        "# Write a class with forward and backward functions, for each node if you like\n",
        "# For eg:\n",
        "import numpy as np\n",
        "\n",
        "class Sigmoid():\n",
        "    def __init__(self,x):\n",
        "      self.x = x\n",
        "      self.sigmoid = None\n",
        "        \n",
        "    def forward(self):\n",
        "      self.sigmoid =  1/(1+np.exp(-self.x))\n",
        "      return self.sigmoid\n",
        "      \n",
        "        # save values useful for backpropagation\n",
        "    def backward(self,dy):\n",
        "      dx = dy*self.sigmoid*(1-self.sigmoid)\n",
        "      return dx\n",
        "\n",
        "\n",
        "class logf_():\n",
        "    def __init__(self,x):\n",
        "      self.x = x      \n",
        "\n",
        "    def forward(self):\n",
        "      self.logf =  np.log(self.x)\n",
        "      return self.logf\n",
        "      \n",
        "        # save values useful for backpropagation\n",
        "    def backward(self,dy):\n",
        "      dx = dy*(1/self.x)\n",
        "      return dx\n",
        "\n",
        "\n",
        "class division_():\n",
        "  def __init__(self,x,y):\n",
        "    self.x = x\n",
        "    self.y = y\n",
        "\n",
        "\n",
        "  def forward(self):\n",
        "    self.divf =  self.x/self.y\n",
        "    return self.divf\n",
        "\n",
        "\n",
        "\n",
        "     # save values useful for backpropagation\n",
        "  def backward(self,dz):\n",
        "      dx = dz*1/(self.y)\n",
        "      dy = -dz*(self.x/(self.y)**2)\n",
        "\n",
        "      return dx,dy\n",
        "\n",
        "\n",
        "class addition_():\n",
        "  def __init__(self,x,y):\n",
        "    self.x = x\n",
        "    self.y = y\n",
        "\n",
        "\n",
        "  def forward(self):\n",
        "    self.addf =  self.x+self.y\n",
        "    return self.addf\n",
        "\n",
        "\n",
        "\n",
        "     # save values useful for backpropagation\n",
        "  def backward(self,dz):\n",
        "      dx = dz\n",
        "      dy = dz\n",
        "      return dx,dy\n",
        "\n",
        "class cos_():\n",
        "  def __init__(self,x):\n",
        "    self.x = x\n",
        "    self.cosf =None\n",
        "\n",
        "\n",
        "  def forward(self):\n",
        "    self.cosf =  np.cos(self.x)\n",
        "    return self.cosf\n",
        "\n",
        "\n",
        "\n",
        "     # save values useful for backpropagation\n",
        "  def backward(self,dz):\n",
        "      dx = -dz*(np.sin(self.x))\n",
        "      return dx\n",
        "\n",
        "class sin_():\n",
        "  def __init__(self,x):\n",
        "    self.x = x\n",
        "\n",
        "\n",
        "  def forward(self):\n",
        "    self.sinf =  np.sin(self.x)\n",
        "    return self.sinf\n",
        "\n",
        "     # save values useful for backpropagation\n",
        "  def backward(self,dz):\n",
        "      dx = dz*(np.cos(self.x))\n",
        "      return dx\n",
        "\n",
        "\n",
        "class tanh_():\n",
        "  def __init__(self,x):\n",
        "    self.x = x\n",
        "    self.tanhf=None\n",
        "\n",
        "  def forward(self):\n",
        "    self.tanhf =  np.tanh(self.x)\n",
        "    return self.tanhf\n",
        "\n",
        "     # save values useful for backpropagation\n",
        "  def backward(self,dz):\n",
        "      dx = dz*1/(np.cosh(self.x))**2\n",
        "      return dx\n",
        "\n",
        "\n",
        "\n",
        "class xsqr():\n",
        "  def __init__(self,x):\n",
        "    self.x = x\n",
        "\n",
        "  def forward(self):\n",
        "    self.xsqf =  (self.x)**2\n",
        "    return self.xsqf\n",
        "\n",
        "\n",
        "\n",
        "     # save values useful for backpropagation\n",
        "  def backward(self,dz):\n",
        "      dx = dz*2*(self.x)\n",
        "      return dx   \n",
        "        \n",
        "# CAUTION: Carefully treat the input and output dimension variation. At worst, handle them with if statements."
      ]
    },
    {
      "cell_type": "code",
      "execution_count": 111,
      "metadata": {
        "id": "KyqeWPF0pddy",
        "colab": {
          "base_uri": "https://localhost:8080/",
          "height": 0
        },
        "outputId": "db68916a-842f-41a6-fa1c-0aa6700b7f62"
      },
      "outputs": [
        {
          "output_type": "stream",
          "name": "stdout",
          "text": [
            "The gradient of the function at (2,1,4) is :\n",
            "2.1417102890343505e-16, 0.43720979194276516, -0.30697227565888824\n",
            "The gradient of the function at (9,14,3) is :\n",
            "-2.5313688314302283e-15, -1.1483441743695977, 2.672161866020151e-07\n",
            "The gradient of the function at (128,42,666) is :\n",
            "1.3244281103803985e-14, -0.42245219681098717, -0.0\n",
            "The gradient of the function at (52,14,28) is :\n",
            "-6.6263243875773434e-15, -0.42245219681098645, -0.0\n"
          ]
        },
        {
          "output_type": "stream",
          "name": "stderr",
          "text": [
            "<ipython-input-96-b3f0ef85684e>:116: RuntimeWarning: overflow encountered in cosh\n",
            "  dx = dz*1/(np.cosh(self.x))**2\n"
          ]
        }
      ],
      "source": [
        "# Now write the class func\n",
        "# which constructs the graph (all operators), forward and backward functions.\n",
        "\n",
        "class Func():\n",
        "    def __init__(self,x,y,z):\n",
        "        self.x = x \n",
        "        self.y = y\n",
        "        self.z = z\n",
        "        pi = np.pi\n",
        "\n",
        "        self.cos = cos_(pi*self.x)\n",
        "        self.sin = sin_(pi/2*self.y)\n",
        "        self.xsq = xsqr(self.z)\n",
        "        self.tanh = tanh_(self.xsq.forward())\n",
        "        self.add = addition_(self.cos.forward(), self.sin.forward())\n",
        "        self.div = division_(self.add.forward(), self.tanh.forward())\n",
        "        self.sig = Sigmoid(self.div.forward())\n",
        "        self.logf = logf_(self.sig.forward())\n",
        "\n",
        "      \n",
        "\n",
        "        # construct the graph here\n",
        "        # assign the instances of function modules to self.var\n",
        "        \n",
        "    def forward(self):\n",
        "        output= self.logf.forward()  \n",
        "        return output\n",
        "    \n",
        "    def backward(self,dout=1):\n",
        "        # Use the saved outputs of each module, and backward() function calls\n",
        "        dlogf = self.logf.backward(dout)\n",
        "        dsigf = self.sig.backward(dlogf)\n",
        "        daddf, dtanhf = self.div.backward(dsigf)\n",
        "        dcosf, dsinf = self.add.backward(daddf)\n",
        "        dxsqf = self.tanh.backward(dtanhf)\n",
        "        grad_z = self.xsq.backward(dxsqf)\n",
        "        grad_x = self.cos.backward(dcosf * np.pi) \n",
        "        grad_y = self.sin.backward(dsinf * np.pi/2)\n",
        "\n",
        "        return [grad_x,grad_y,grad_z]\n",
        "\n",
        "\n",
        "\n",
        "x=Func(2,4,1)\n",
        "x.forward()\n",
        "x=x.backward()\n",
        "print(\"The gradient of the function at (2,1,4) is :\")\n",
        "print(*x, sep = \", \") \n",
        "\n",
        "\n",
        "\n",
        "x=Func(9,14,3)\n",
        "x.forward()\n",
        "x=x.backward()\n",
        "print(\"The gradient of the function at (9,14,3) is :\")\n",
        "print(*x, sep = \", \") \n",
        "\n",
        "\n",
        "x=Func(128,42,666)\n",
        "x.forward()\n",
        "x=x.backward()\n",
        "print(\"The gradient of the function at (128,42,666) is :\")\n",
        "print(*x, sep = \", \") \n",
        "\n",
        "\n",
        "x=Func(52,14,28)\n",
        "x.forward()\n",
        "x=x.backward()\n",
        "print(\"The gradient of the function at (52,14,28) is :\")\n",
        "print(*x, sep = \", \") \n",
        "\n",
        "\n",
        "# $(x,y,z)$ =  (2,4,1)\n",
        "#   * $(x,y,z)$ =  (9,14,3)\n",
        "#   * $(x,y,z)$ =  (128,42,666)\n",
        "#   * $(x,y,z)$ =  (52,14,28)\n",
        "    "
      ]
    },
    {
      "cell_type": "markdown",
      "metadata": {
        "id": "rYE4dEd-pdef"
      },
      "source": [
        "## Question 3 : Modular Vector Backpropagation\n",
        "\n",
        "* Construct a Linear Layer module, implementing the forward and backward functions for arbitrary sizes.\n",
        "* Construct a ReLU module, implementing the forward and backward functions for arbitrary sizes.\n",
        "* Create a 2 layer MLP using the constructed modules.\n",
        "\n",
        "* Modifying the functions built in Question 1 , train this two layer MLP for the same data set, MNIST, with the same train-val split."
      ]
    },
    {
      "cell_type": "code",
      "execution_count": 112,
      "metadata": {
        "id": "0viOMFfFpden"
      },
      "outputs": [],
      "source": [
        "# Class for Linear Layer (If you're stuck, you can refer to code of PyTorch/Tensorflow packages) \n",
        "\n",
        "class Linearlayer():\n",
        "  def __init__(self,inputsize,outputsize):\n",
        "    self.weights = np.random.normal(0,1e-3,size=(outputsize,inputsize))\n",
        "    self.bias = np.random.normal(0,1e-3,size= (outputsize,1))\n",
        "\n",
        "\n",
        "  def forward(self,x):\n",
        "    \n",
        "    #x = np.reshape(x,(x.shape[0],1))\n",
        "    self.x = x/255\n",
        "    z = np.dot(self.weights,x)+self.bias\n",
        "    return z\n",
        "\n",
        "  def backward(self,dz):\n",
        "    m = self.x.shape[1]\n",
        "    self.dw = np.dot(dz, self.x.T)/m\n",
        "    self.db = np.sum(dz, axis=1)/m\n",
        "    self.db=self.db.reshape(self.db.shape[0],1)\n",
        "    dx = np.dot(self.weights.T, dz)\n",
        "    return dx\n",
        "\n",
        "  def update_params(self, learning_rate):\n",
        "      self.weights = self.weights - learning_rate * self.dw\n",
        "      self.bias = self.bias - learning_rate * self.db\n",
        "\n",
        "\n"
      ]
    },
    {
      "cell_type": "code",
      "execution_count": 113,
      "metadata": {
        "id": "zmlWuzv1pdfK"
      },
      "outputs": [],
      "source": [
        "# Class for ReLU\n",
        "\n",
        "class ReLu():\n",
        "  def __init__(self):\n",
        "    self.x = None\n",
        "    self.dr = None\n",
        "\n",
        "  def forward(self,x):\n",
        "    self.x =x\n",
        "    self.x[self.x<0]=0\n",
        "    return x\n",
        "\n",
        "  def backward(self,dz):\n",
        "    self.dr = dz*(self.x >0)\n",
        "    return self.dr\n",
        "\n",
        "\n",
        "\n",
        "class softmaxLoss():\n",
        "  def __init__(self):\n",
        "    pass\n",
        "\n",
        "  def forward(self,x,y):\n",
        "    self.N = x.shape[1]\n",
        "    self.y = y\n",
        "\n",
        "    exp_x = np.exp(x - np.max(x, axis=0, keepdims=True))\n",
        "    self.p = exp_x / np.sum(exp_x, axis=0, keepdims=True)\n",
        "    loss = -np.sum(np.log(self.p[y, range(self.N)])) / self.N\n",
        "    return loss\n",
        "\n",
        "\n",
        "  def backward(self):\n",
        "    dx = self.p.copy()\n",
        "\n",
        "    dx[self.y, range(self.N)] -= 1\n",
        "    dx /= self.N\n",
        "    return dx\n",
        "\n",
        "    \n"
      ]
    },
    {
      "cell_type": "code",
      "execution_count": 114,
      "metadata": {
        "id": "ppSfRLySpdfv"
      },
      "outputs": [],
      "source": [
        "# Your 2 layer MLP \n",
        "model1 = Linearlayer(28*28,64)\n",
        "model3 = ReLu()\n",
        "model2 = Linearlayer(64,10)\n",
        "model4 = softmaxLoss()\n"
      ]
    },
    {
      "cell_type": "code",
      "execution_count": 146,
      "metadata": {
        "id": "MyDbNSeRpdgL",
        "colab": {
          "base_uri": "https://localhost:8080/",
          "height": 0
        },
        "outputId": "f12dc20a-d4f1-46cb-8b15-0f45813643c4"
      },
      "outputs": [
        {
          "output_type": "stream",
          "name": "stdout",
          "text": [
            "The accuracy 0.5643 and the loss 1.6318, sample is 48000 \n",
            "The accuracy 0.7075 and the loss 1.1039, sample is 96000 \n",
            "The accuracy 0.7672 and the loss 0.8748, sample is 144000 \n",
            "The accuracy 0.7999 and the loss 0.7470, sample is 192000 \n",
            "The accuracy 0.8208 and the loss 0.6647, sample is 240000 \n",
            "The accuracy 0.8356 and the loss 0.6065, sample is 288000 \n",
            "The accuracy 0.8470 and the loss 0.5626, sample is 336000 \n",
            "The accuracy 0.8560 and the loss 0.5279, sample is 384000 \n",
            "The accuracy 0.8635 and the loss 0.4994, sample is 432000 \n",
            "The accuracy 0.8698 and the loss 0.4755, sample is 480000 \n"
          ]
        }
      ],
      "source": [
        "# Train the MLP\n",
        "\n",
        "def model_train(lr,batch,epochs):\n",
        "      sample = 0\n",
        "      loss = 0 \n",
        "      corrects = 0\n",
        "      #epochs = 10\n",
        "      training_accuracy = []\n",
        "      training_loss = []\n",
        "      for i in range(epochs):\n",
        "        \n",
        "        minibatch_generator = get_minibatch(batch_size=batch)\n",
        "        for train1_x,train1_y in minibatch_generator:\n",
        "              train1_x = train1_x.reshape((train1_x.shape[0], -1))\n",
        "              train1_x = train1_x.T\n",
        "\n",
        "              #Forward pass\n",
        "              y=model1.forward(train1_x)\n",
        "              y = model3.forward(y)\n",
        "              # print(\"weights\",model2.weights.shape)\n",
        "              # print(\"y\",y.shape)\n",
        "              # print(\"bias\",model2.bias.shape)\n",
        "              y=model2.forward(y)\n",
        "              \n",
        "              loss += model4.forward(y,train1_y)*len(train1_x[1])\n",
        "              # print(train1_y)\n",
        "              # print(y)\n",
        "\n",
        "              pred_labels = np.argmax(y, axis=0)\n",
        "\n",
        "              accuracy = np.mean(pred_labels == train1_y)\n",
        "              sample += len(train1_x[1])\n",
        "              corrects += accuracy*(len(train1_x[1]))\n",
        "\n",
        "              #backward pass\n",
        "              z = model4.backward()\n",
        "              z = model2.backward(z)\n",
        "              z = model3.backward(z)\n",
        "              z = model1.backward(z)\n",
        "\n",
        "\n",
        "              #update parameters\n",
        "              model2.update_params(lr)\n",
        "              \n",
        "              model1.update_params(lr)\n",
        "        training_accuracy.append(corrects/sample)\n",
        "        training_loss.append(loss/sample) \n",
        "\n",
        "        print(\"The accuracy %.4f and the loss %.4f, sample is %d \"%(corrects/sample,loss/sample,sample))\n",
        "      return training_accuracy,training_loss\n",
        "      \n",
        "\n",
        "training_accuracy,training_loss = model_train(0.1,20,10)"
      ]
    },
    {
      "cell_type": "markdown",
      "metadata": {
        "id": "oxq2YSHIPZ-w"
      },
      "source": [
        "### Plot the training loss and training accuracy plot"
      ]
    },
    {
      "cell_type": "code",
      "execution_count": 128,
      "metadata": {
        "id": "_PTEm_dVPZ-x",
        "colab": {
          "base_uri": "https://localhost:8080/",
          "height": 808
        },
        "outputId": "0ed9eb4e-1c90-4acb-9a31-e1094911bcdc"
      },
      "outputs": [
        {
          "output_type": "display_data",
          "data": {
            "text/plain": [
              "<Figure size 720x432 with 1 Axes>"
            ],
            "image/png": "[encoded data removed]"
          },
          "metadata": {
            "needs_background": "light"
          }
        },
        {
          "output_type": "execute_result",
          "data": {
            "text/plain": [
              "Text(0.5, 1.0, 'Training Loss')"
            ]
          },
          "metadata": {},
          "execution_count": 128
        },
        {
          "output_type": "display_data",
          "data": {
            "text/plain": [
              "<Figure size 720x432 with 1 Axes>"
            ],
            "image/png": "[encoded data removed]"
          },
          "metadata": {
            "needs_background": "light"
          }
        }
      ],
      "source": [
        "# Use the same utility functions defined in the previous question\n",
        "# WRITE CODE HERE\n",
        "\n",
        "plt.subplots(figsize=(10, 6))\n",
        "plt.plot(training_accuracy, label='Training Accuracy')\n",
        "plt.legend()\n",
        "plt.xlabel('Epochs')\n",
        "plt.ylabel('Accuracy')\n",
        "plt.title('Training Accuracy')\n",
        "plt.show()\n",
        "\n",
        "\n",
        "plt.subplots(figsize=(10, 6))\n",
        "plt.plot(training_loss, label='Training Loss')\n",
        "plt.xlabel('Epochs')\n",
        "plt.ylabel('Loss')\n",
        "plt.title('Training Loss')"
      ]
    },
    {
      "cell_type": "code",
      "metadata": {
        "id": "kEcexjNVPZ-x"
      },
      "source": [
        "### Find the accuracy on the validation set"
      ],
      "execution_count": null,
      "outputs": []
    },
    {
      "cell_type": "code",
      "execution_count": 168,
      "metadata": {
        "id": "iPDIcLtCPZ-x",
        "colab": {
          "base_uri": "https://localhost:8080/",
          "height": 0
        },
        "outputId": "c21e3138-41b6-419a-937d-437a1faaa3e9"
      },
      "outputs": [
        {
          "output_type": "stream",
          "name": "stdout",
          "text": [
            "The accuracy 0.9657 and the loss 0.2789, sample is 12000 \n"
          ]
        }
      ],
      "source": [
        "# WRITE CODE HERE\n",
        "\n",
        "def test_model(X_val,y_val):\n",
        "    minibatch_generator = get_minibatch(training_x=X_val,training_y=y_val)\n",
        "    corrects = 0\n",
        "    sample =0\n",
        "    loss = 0\n",
        "    for input_x , input_y in (minibatch_generator):\n",
        "              input_x = input_x.reshape((input_x.shape[0], -1))\n",
        "              input_x = input_x.T\n",
        "              y=model1.forward(input_x)\n",
        "              y = model3.forward(y)\n",
        "              y=model2.forward(y)\n",
        "              loss += model4.forward(y,input_y)*len(input_x[1])\n",
        "              # print(train1_y)\n",
        "              # print(y)\n",
        "\n",
        "              pred_labels = np.argmax(y, axis=0)\n",
        "\n",
        "              accuracy = np.mean(pred_labels == input_y)\n",
        "              sample += len(input_x[1])\n",
        "              corrects += accuracy*(len(input_x[1]))\n",
        "\n",
        "      \n",
        "    print(\"The accuracy %.4f and the loss %.4f, sample is %d \"%(corrects/sample,loss/sample,sample))\n",
        "    return \n",
        "\n",
        "test_model(X_val,y_val)\n"
      ]
    },
    {
      "cell_type": "code",
      "execution_count": 152,
      "metadata": {
        "id": "qV5P9FBVPZ-y",
        "colab": {
          "base_uri": "https://localhost:8080/",
          "height": 561
        },
        "outputId": "7bffd78a-8d04-4656-e2ef-687a04b4bfa0"
      },
      "outputs": [
        {
          "output_type": "stream",
          "name": "stdout",
          "text": [
            "The accuracy 0.8810 and the loss 0.4085, sample is 48000 \n",
            "The accuracy 0.7931 and the loss 0.7532, sample is 48000 \n",
            "The accuracy 0.5942 and the loss 1.5956, sample is 48000 \n",
            "The accuracy 0.9125 and the loss 0.2818, sample is 48000 \n",
            "The accuracy 0.8932 and the loss 0.3703, sample is 48000 \n",
            "The accuracy 0.8225 and the loss 0.6678, sample is 48000 \n",
            "The accuracy 0.9118 and the loss 0.2899, sample is 48000 \n",
            "The accuracy 0.9009 and the loss 0.3278, sample is 48000 \n",
            "The accuracy 0.8408 and the loss 0.5679, sample is 48000 \n"
          ]
        },
        {
          "output_type": "display_data",
          "data": {
            "text/plain": [
              "<Figure size 576x432 with 2 Axes>"
            ],
            "image/png": "[encoded data removed]"
          },
          "metadata": {
            "needs_background": "light"
          }
        }
      ],
      "source": [
        "# Find the optimal value of learning rate and batch size. \n",
        "# Use the same tuning strategy as the previous question\n",
        "# Create plot and table to show the effect of the hparams.\n",
        "\n",
        "\n",
        "\n",
        "lr = [0.1,0.5,0.7]\n",
        "batch_size = [5,10,20]\n",
        "\n",
        "results = pd.DataFrame(columns=['learning_rate', 'batch_size', 'train_loss', 'train_acc'])\n",
        "\n",
        "for l in lr:\n",
        "  for b in batch_size:\n",
        "    epochs =1\n",
        "    model1 = Linearlayer(28*28,64)\n",
        "    model3 = ReLu()\n",
        "    model2 = Linearlayer(64,10)\n",
        "    model4 = softmaxLoss()\n",
        "    training_accuracy,training_loss = model_train(l,b,epochs)\n",
        "    results = results.append({'learning_rate': l, 'batch_size': b, 'train_loss': training_loss[-1].item(), 'train_acc': training_accuracy[-1]}, ignore_index=True)\n",
        "\n",
        "\n",
        "\n",
        "\n",
        "\n",
        "table=pd.pivot_table(results,values='train_acc',columns='batch_size',index='learning_rate')\n",
        "\n",
        "\n",
        "plt.figure(figsize=(8, 6))\n",
        "plt.imshow(table,cmap='Blues', interpolation='nearest')\n",
        "plt.xticks(np.arange(len(batch_size)),batch_size )\n",
        "plt.yticks(np.arange(len(table.index)),table.index )\n",
        "plt.xlabel('batch_size')\n",
        "plt.ylabel('learning rate')\n",
        "plt.title(\"Hyperparameter comparision\")\n",
        "plt.colorbar()\n",
        "plt.show()\n",
        "\n",
        "\n",
        "\n",
        "\n",
        "\n",
        "\n",
        "\n"
      ]
    },
    {
      "cell_type": "code",
      "metadata": {
        "id": "lGiVrg7fPZ-y"
      },
      "source": [
        "### Report final performance on MNIST test set"
      ],
      "execution_count": null,
      "outputs": []
    },
    {
      "cell_type": "code",
      "execution_count": null,
      "metadata": {
        "id": "1SsnKL2cPZ-y"
      },
      "outputs": [],
      "source": [
        "# WRITE CODE HERE\n",
        "\n",
        "model_train(0.5,5,10)\n",
        "\n",
        "print(table)\n",
        "test_model(X_test,y_test)"
      ]
    },
    {
      "cell_type": "markdown",
      "metadata": {
        "id": "WBM9bkg3PZ-z"
      },
      "source": [
        "### Find the best performing class and the worst performing class"
      ]
    },
    {
      "cell_type": "code",
      "execution_count": null,
      "metadata": {
        "id": "3oGNajnxPZ-z"
      },
      "outputs": [],
      "source": [
        "# WRITE CODE HERE"
      ]
    },
    {
      "cell_type": "markdown",
      "metadata": {
        "id": "m9qh6snsPZ-z"
      },
      "source": [
        "### Any additional observations / comments?"
      ]
    },
    {
      "cell_type": "code",
      "execution_count": null,
      "metadata": {
        "id": "4b_gYWO-PZ-z"
      },
      "outputs": [],
      "source": []
    },
    {
      "cell_type": "markdown",
      "metadata": {
        "id": "AIaHuFk2PZ-0"
      },
      "source": [
        "## BONUS Question\n",
        "### Observe the effect on test set accuracy by changing the number of training samples.\n",
        "### Train on 10%, 20% and 50% training data and plot the percentage of training data v.s. the test accuracy.  "
      ]
    },
    {
      "cell_type": "code",
      "execution_count": null,
      "metadata": {
        "id": "rA5zs8DoPZ-0"
      },
      "outputs": [],
      "source": [
        "# WRITE CODE HERE"
      ]
    },
    {
      "cell_type": "markdown",
      "metadata": {
        "id": "KX-cXeY3pdhr"
      },
      "source": [
        "\n",
        "# Implementing a Convolution Module with Numpy\n",
        "\n",
        "* This topic will require you to implement the Convolution operation using Numpy.\n",
        "* We will use the Module for tasks like Blurring.\n",
        "* Finally, we implement Backpropagation for the convolution module.\n"
      ]
    },
    {
      "cell_type": "markdown",
      "metadata": {
        "id": "kHeieqicpdhz"
      },
      "source": [
        "## Question 4\n",
        "\n",
        "* Implement a naive Convolution module, with basic functionalities: kernel_size, padding, stride and dilation\n",
        "  \n",
        "* Test out the convolution layer by using it to do gaussian blurring on 10 random images of CIFAR-10 dataset\n"
      ]
    },
    {
      "cell_type": "code",
      "execution_count": null,
      "metadata": {
        "id": "YoVvSEj0pdh5"
      },
      "outputs": [],
      "source": [
        "## Define a class Convolution Layer, which is initialized with the various required params:\n",
        "class Convolution_Layer():\n",
        "    \n",
        "    def __init__(self,input_channels,output_channels , filter_size, bias=True, stride=1, padding=0, dilation=1):\n",
        "        # For an untrained layer, set random initial filter weights\n",
        "        self.filter_size = filter_size\n",
        "        self.input_channels = input_channels\n",
        "        self.output_channels = output_channels\n",
        "        self.bias = bias\n",
        "        self.stride = stride\n",
        "        self.padding = padding\n",
        "        self.dilation = dilation\n",
        "        # Initialize random weights for the filter\n",
        "        \"\"\"filter_size (filter_channel,filter_height,filter_width)\"\"\"\n",
        "        self.weights = np.random.randn(output_channels,input_channels,*filter_size)         \n",
        "        if bias:\n",
        "            self.bias_weights = np.random.randn(output_channels)\n",
        "\n",
        "\n",
        "\n",
        "\n",
        "\n",
        "    def forward(self,input):\n",
        "        # Input Proprocess(According to pad etc.) Input will be of size (Batch_size, in_channels, inp_height, inp_width)\n",
        "        batch_size, in_channels, inp_height, inp_width = input.shape\n",
        "        \n",
        "        # Reminder: Save Input for backward-prop\n",
        "        padded_input = np.pad(input, ((0, 0), (0, 0), (self.padding, self.padding), (self.padding, self.padding)))\n",
        "\n",
        "        out_width = int((inp_width-self.filter_size[1]+2*self.padding)/self.stride +1 )\n",
        "        out_height = int((inp_height-self.filter_size[0]+2*self.padding)/self.stride +1 )\n",
        "\n",
        "        output = np.zeros((batch_size, self.output_channels, out_height, out_width))\n",
        "\n",
        "        self.input = input\n",
        "\n",
        "\n",
        "\n",
        "        # Simple Conv operation:\n",
        "        for b_size in range(batch_size):\n",
        "          for c_out in range(self.output_channels):\n",
        "            for i in range(out_height):\n",
        "              m = i*self.stride\n",
        "              for j in range(out_width):\n",
        "                \n",
        "                n = j*self.stride \n",
        "                #print(\"m and n : %d %d\"%(m,n))\n",
        "                receptive_field = input[b_size,:,m:m+self.filter_size[0],n:n+self.filter_size[1]]\n",
        "                output[b_size,c_out,i,j] = np.sum(receptive_field*self.weights[c_out]) \n",
        "                if self.bias:\n",
        "                  output[b_size,c_out,i,j]+= self.bias_weights[c_out]\n",
        "\n",
        "      \n",
        "\n",
        "\n",
        "        # Loop over every location in inp_height * inp_width for the whole batch\n",
        "        \n",
        "        # Output will be of the size (Batch_size, out_channels, out_height, out_width)\n",
        "        return output\n",
        "    \n",
        "    def backward(self, grad_of_output_size):\n",
        "        \n",
        "        # Naive Implementation\n",
        "        # Speed is not a concern\n",
        "        # Hint: gradients from each independant operation can be summed\n",
        "\n",
        "        batch_size, out_channels, out_height, out_width = grad_of_output_size.shape\n",
        "\n",
        "        grad_weights = np.zeros_like(self.weights)\n",
        "        #grad_bias = np.zeros_like(self.bias)\n",
        "\n",
        "        for b_size in range(batch_size):\n",
        "          for c_out in range(out_channels):\n",
        "            for i in range(out_height):\n",
        "                m = i*self.stride\n",
        "                for j in range(out_width):\n",
        "                    n = j*self.stride \n",
        "                    receptive_field = self.input[b_size,:,m:m+self.filter_size[0],n:n+self.filter_size[1]]\n",
        "                    #grad_bias[c_out] += grad_of_output_size[b_size, c_out, i, j]\n",
        "                    grad_weights[c_out] += receptive_field*grad_of_output_size[b_size, c_out, i, j]\n",
        "\n",
        "        grad_weights /= batch_size\n",
        "        #grad_bias /= batch_size\n",
        "\n",
        "\n",
        "\n",
        "        \n",
        "        #  return gradient of the size of the weight kernel\n",
        "        return grad_weights\n",
        "    \n",
        "    def set_weights(self, new_weights):\n",
        "        ## Replace the set of weights with the given 'new_weights'\n",
        "        self.weights = new_weights\n",
        "        ## use this for setting weights for blurring, bilateral filtering etc. \n",
        "        return 0    "
      ]
    },
    {
      "cell_type": "markdown",
      "source": [
        "### Download CIFAR-10 images and load it in a numpy array (https://www.cs.toronto.edu/~kriz/cifar.html)\n",
        "\n"
      ],
      "metadata": {
        "id": "O3J2HkVH1Zhb"
      }
    },
    {
      "cell_type": "code",
      "execution_count": null,
      "metadata": {
        "id": "M-Q1Ao3JPZ-2"
      },
      "outputs": [],
      "source": [
        "# WRITE CODE HERE\n",
        "\n",
        "def unpickle(file):\n",
        "    import pickle\n",
        "    with open(file, 'rb') as fo:\n",
        "        cifr_dict = pickle.load(fo, encoding='bytes')\n",
        "        cifr_data = cifr_dict[b'data']\n",
        "        cifr_labels = cifr_dict[b'labels']\n",
        "    return cifr_data,cifr_labels\n",
        "\n",
        "\n",
        "train_image,train_label=unpickle(\"/content/drive/MyDrive/data_batch_1\")\n",
        "\n",
        "train_image = train_image.reshape(-1,3,32,32)"
      ]
    },
    {
      "cell_type": "markdown",
      "metadata": {
        "id": "2zMHQSe_PZ-2"
      },
      "source": [
        "### Initialize a conv layer. Set weights for gaussian blurring (do not train the filter for this part). Visualise the filters using matplotlib\n"
      ]
    },
    {
      "cell_type": "code",
      "execution_count": null,
      "metadata": {
        "id": "4WYRoOTdPZ-3",
        "colab": {
          "base_uri": "https://localhost:8080/",
          "height": 222
        },
        "outputId": "8b34d2db-8b04-4863-e2cd-64cf65fb2dfb"
      },
      "outputs": [
        {
          "output_type": "display_data",
          "data": {
            "text/plain": [
              "<Figure size 720x432 with 3 Axes>"
            ],
            "image/png": "[encoded data removed]"
          },
          "metadata": {
            "needs_background": "light"
          }
        }
      ],
      "source": [
        "# WRITE CODE HERE\n",
        "import matplotlib.pyplot as plt\n",
        "import numpy as np\n",
        "%matplotlib inline\n",
        "\n",
        "\n",
        "def gaussian_kernel(size, sigma=1):\n",
        "    x, y = np.mgrid[-size:size+1, -size:size+1]\n",
        "    g = np.exp(-((x**2 + y**2)/(2.0*sigma**2)))\n",
        "    return g/g.sum()\n",
        "\n",
        "weights = gaussian_kernel(2,0.8)\n",
        "\n",
        "new_weights = np.zeros((3,3,5,5))\n",
        "new_weights[0,0,:] =weights\n",
        "new_weights[1,1,:] =weights\n",
        "new_weights[2,2,:] =weights \n",
        "\n",
        "\n",
        "fig, axes = plt.subplots(nrows=1, ncols=3, figsize=(10, 6))\n",
        "\n",
        "for i, ax in enumerate(axes.flat):\n",
        "    ax.imshow(new_weights[i,:].transpose((1,2,0)))\n",
        "    \n",
        "plt.subplots_adjust(wspace=0.1, hspace=0.2)\n",
        "plt.show()\n",
        "\n",
        "\n"
      ]
    },
    {
      "cell_type": "markdown",
      "metadata": {
        "id": "dCntZTfRPZ-4"
      },
      "source": [
        "### Generate output for the first 5 images of the training set"
      ]
    },
    {
      "cell_type": "code",
      "execution_count": null,
      "metadata": {
        "id": "fXmasgoCPZ-4",
        "colab": {
          "base_uri": "https://localhost:8080/",
          "height": 236
        },
        "outputId": "72b789b9-bc03-45ee-b2f1-782c38ed5b0a"
      },
      "outputs": [
        {
          "output_type": "display_data",
          "data": {
            "text/plain": [
              "<Figure size 1440x1440 with 5 Axes>"
            ],
            "image/png": "[encoded data removed]"
          },
          "metadata": {
            "needs_background": "light"
          }
        }
      ],
      "source": [
        "# WRITE CODE HERE\n",
        "batch_img = train_image[:5,:]\n",
        "\n",
        "\n",
        "fig, axs = plt.subplots(1, 5, figsize=(20,20))\n",
        "\n",
        "for i,ax in enumerate(axs.flat):\n",
        "    img = train_image[i]\n",
        "    axs[i].imshow(np.transpose(img,(1,2,0)))"
      ]
    },
    {
      "cell_type": "markdown",
      "metadata": {
        "id": "HmXRQjgzPZ-4"
      },
      "source": [
        "### Use matplotlib to show the input and corresponding blurred output"
      ]
    },
    {
      "cell_type": "code",
      "execution_count": null,
      "metadata": {
        "id": "7paY3OddPZ-5",
        "colab": {
          "base_uri": "https://localhost:8080/",
          "height": 239
        },
        "outputId": "c04f951d-a9de-4a02-b060-4fa98335f47c"
      },
      "outputs": [
        {
          "output_type": "display_data",
          "data": {
            "text/plain": [
              "<Figure size 1440x1440 with 5 Axes>"
            ],
            "image/png": "[encoded data removed]"
          },
          "metadata": {}
        }
      ],
      "source": [
        "# WRITE CODE HERE\n",
        "\n",
        "model = Convolution_Layer(3,3,[5,5])\n",
        "\n",
        "\n",
        "batch_img = train_image[:5,:]\n",
        "\n",
        "model.set_weights(new_weights)\n",
        "\n",
        "x = model.forward(batch_img)\n",
        "\n",
        "x = np.transpose(x, (0, 2, 3, 1))\n",
        "\n",
        "fig, axes = plt.subplots(nrows=1, ncols=5, figsize=(20, 20))\n",
        "\n",
        "for i, ax in enumerate(axes.flat):\n",
        "    # Plot image on the current subplot\n",
        "    #np.abs(x[i]/np.abs(x[i].max()))\n",
        "    ax.imshow(np.abs(x[i]/np.abs(x[i]).max()))\n",
        "    ax.set_xticks([])\n",
        "    ax.set_yticks([])\n",
        "    \n",
        "plt.subplots_adjust(wspace=0.1, hspace=0.2)\n",
        "plt.show()"
      ]
    },
    {
      "cell_type": "markdown",
      "metadata": {
        "id": "zmsPeOEOpdi8"
      },
      "source": [
        "## Question 5\n",
        "<br>\n",
        "Now we will use this module for training a simple Convolution Layer using CIFAR-10 images. \n",
        "\n",
        "* The goal is to learn a set of weights, by using the backpropagation function created. To test the backpropagation, instead of training a whole network, we will train only a single layer.\n",
        "  * Instantiate a Convolution  layer $C_0$ with 20 filters, each with size 5$\\times$5 (RGB image, so 3 input channels). Load the given numpy array of size (20,3,5,5), which represents the weights of a convolution layer. Set the given values as the filter weights for $C_0$. Take 100 CIFAR-10 images. Save the output of these 100 images generated from this Convolution layer $C_0$. \n",
        "  \n",
        "  * Now, initialize a new convolution layer $C$ with weight values sampled from uniform distribution [-1,1]. Use the $L_2$ loss between the output of this layer $C$ and the output generated in the previous step to learn the filter weights of $C_0$.\n"
      ]
    },
    {
      "cell_type": "code",
      "execution_count": null,
      "metadata": {
        "id": "p8dGnMHOpdjD"
      },
      "outputs": [],
      "source": [
        "## Load filter weights from given numpy array \"C0_weights.npy\".\n",
        "## Init a conv layer C_0 with these given weights\n",
        "\n",
        "## For all images get output. Store in numpy array.\n",
        "\n",
        "\n",
        "input_img = train_image[:100,:]\n",
        "input_img = input_img/255\n",
        "\n",
        "C0 = Convolution_Layer(3,20,[5,5],bias=False)\n",
        "C0_weights = np.load(\"/content/C0_weights.npy\")\n",
        "C0.weights = C0_weights\n",
        "C0_output=C0.forward(input_img)\n",
        "\n",
        "\n",
        "C = Convolution_Layer(3,20,[5,5],bias=False)\n",
        "C.weights = np.random.uniform(-1,1,size=(20,3,5,5))\n",
        "C_output = C.forward(input_img)\n",
        "\n"
      ]
    },
    {
      "cell_type": "code",
      "execution_count": null,
      "metadata": {
        "id": "nhhHA4UCpdji",
        "colab": {
          "base_uri": "https://localhost:8080/"
        },
        "outputId": "be5779e3-254d-4904-82a0-8cfc92d01a27"
      },
      "outputs": [
        {
          "output_type": "stream",
          "name": "stdout",
          "text": [
            "Iteration 0: loss = 401.56836829384287\n",
            "Iteration 1: loss = 339.98256838688343\n",
            "Iteration 2: loss = 312.5554460893538\n",
            "Iteration 3: loss = 287.14845416354615\n",
            "Iteration 4: loss = 265.262499726383\n"
          ]
        }
      ],
      "source": [
        "# for part 2 we need to write a class for the  L2 loss\n",
        "class L2_loss():\n",
        "    def ___init__(self):\n",
        "      pass\n",
        "    \n",
        "    def forward(self, C0_output,C_output):\n",
        "        # Conv. output is of dimension (batchsize,channels,height,width)\n",
        "        # calculate the L2 norm of (C0_output - C_output)\n",
        "\n",
        "        self.diff = C_output - C0_output\n",
        "        self.diff = self.diff/np.abs(self.diff).max() \n",
        "        loss = np.linalg.norm(C0_output.flatten()-C_output.flatten(),ord=2)\n",
        "        \n",
        "        return loss\n",
        "    \n",
        "    def backward(self,output_grad):\n",
        "        # from the loss, and the conv. output, get the grad at each location\n",
        "        # The grad is of the shape (batchsize,channels,height,width)\n",
        "\n",
        "        grad = 2*output_grad *(self.diff)\n",
        "        return grad\n",
        "\n",
        "# Now Init a new conv layer C and a L2 loss layer\n",
        "\n",
        "# Train the new conv-layer C using the L2 loss to learn C_0, i.e., the set of given weights.\n",
        "# Use mini-batches if required\n",
        "\n",
        "\n",
        "\n",
        "lr = 0.1\n",
        "L2 = L2_loss()\n",
        "\n",
        "\n",
        "# Print L2 dist between output from the new trained convolution layer C and the outputs generated from C_0.\n",
        "\n",
        "\n",
        "iterations = 5\n",
        "\n",
        "for i in range(iterations):\n",
        "  for j in range(0,input_img.shape[0],10):\n",
        "      C_output = C.forward(input_img[j:j+10,:])\n",
        "      loss= L2.forward(C0_output[j:j+10,:],C_output)\n",
        "      x = L2.backward(output_grad=1)\n",
        "      x = C.backward(x)\n",
        "      x = x/np.abs(x).max()\n",
        "\n",
        "\n",
        "      C.weights = C.weights - lr*x\n",
        "  print(f\"Iteration {i}: loss = {loss}\")\n",
        "\n"
      ]
    }
  ],
  "metadata": {
    "anaconda-cloud": {},
    "colab": {
      "provenance": []
    },
    "interpreter": {
      "hash": "6945496b114ae6c8dbcad4f53e4fc084fdd8255c08c862c02a1152642bece680"
    },
    "kernelspec": {
      "display_name": "Python 2",
      "language": "python",
      "name": "python3"
    },
    "language_info": {
      "codemirror_mode": {
        "name": "ipython",
        "version": 3
      },
      "file_extension": ".py",
      "mimetype": "text/x-python",
      "name": "python",
      "nbconvert_exporter": "python",
      "pygments_lexer": "ipython3",
      "version": "3.9.1"
    }
  },
  "nbformat": 4,
  "nbformat_minor": 0
}
